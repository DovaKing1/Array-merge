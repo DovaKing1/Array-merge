{
  "nbformat": 4,
  "nbformat_minor": 0,
  "metadata": {
    "colab": {
      "provenance": []
    },
    "kernelspec": {
      "name": "python3",
      "display_name": "Python 3"
    },
    "language_info": {
      "name": "python"
    }
  },
  "cells": [
    {
      "cell_type": "markdown",
      "source": [
        "## Implement SLR to __Predict Baseball Team Wins from Run Differential__\n",
        "\n",
        "\n",
        "Can you predict a baseball team's win total if you know their run differential?\n",
        "\n",
        "The Major League Baseball (MLB) season schedule generally consists of __162 games__ for each of the 30 teams in the __American League (AL)__ and __National League (NL)__. A __run (R)__ is considered $1$ point in baseball and __run differential (RD)__ is the difference between the number of runs a team scores and the number of runs it gave up.\n",
        "\n",
        "__Steps:__\n",
        "1. Exploring the dataset and preprocessing\n",
        "2. Modeling and fitting\n",
        "3. Prediction and Model Performance"
      ],
      "metadata": {
        "id": "aGvCDbQt9eVW"
      }
    },
    {
      "cell_type": "code",
      "execution_count": 1,
      "metadata": {
        "id": "8oIHpTlHqUkt"
      },
      "outputs": [],
      "source": [
        "## For data handling\n",
        "import pandas as pd\n",
        "import numpy as np\n",
        "\n",
        "## For plotting\n",
        "import matplotlib.pyplot as plt\n",
        "import seaborn as sns\n",
        "\n",
        "## This sets the plot style\n",
        "## to have a grid on a white background (for readability of visualizations)\n",
        "sns.set_style(\"whitegrid\")"
      ]
    },
    {
      "cell_type": "markdown",
      "source": [
        "## 1- Start with reading our data and do some EDA\n",
        "\n",
        "Describe and clean your dataset here. Before making any changes to your dataset, it's a good idea to create a copy so that the original data remains untouched in case something goes wrong.\n",
        "\n"
      ],
      "metadata": {
        "id": "YpVDWFQz-Mwe"
      }
    },
    {
      "cell_type": "code",
      "source": [
        "# create a copy of the \"Salary_Data.csv\"\n",
        "df = pd.read_csv('Salary_Data.csv')"
      ],
      "metadata": {
        "id": "GcKn4eQK9oe8"
      },
      "execution_count": 3,
      "outputs": []
    },
    {
      "cell_type": "markdown",
      "source": [
        "### 1.1 Check for potential (linear) relationship between variables by plotting your data.\n",
        "\n",
        "Explian here why we can use simple linear regression here."
      ],
      "metadata": {
        "id": "KS1LJUjrW0_x"
      }
    },
    {
      "cell_type": "code",
      "source": [
        "# We are only looking at years of experience and the salary"
      ],
      "metadata": {
        "id": "OEkUPfVNW9-b"
      },
      "execution_count": null,
      "outputs": []
    },
    {
      "cell_type": "markdown",
      "source": [
        "### 1.2 Train-Test Split\n",
        "\n",
        "We did not talk about train-test split in class. We learn about it here. To check our predictive model's accuracy, we split our data into training ($\\{(X_{\\text{train}}, y_{\\text{train}})\\}$)and testing subsets ($\\{(X_{\\text{test}}, y_{\\text{test}})\\}$).  One reson for this is training data may overestimate a model's effectiveness, the test data serves as a sanity check, to see if the model's performance aligns with expectations. Very similar to what we do in school: a lot homework and assignment to train you and at the end there will be a test to evaluate your perfomance.\n"
      ],
      "metadata": {
        "id": "uoVB4Hhb-K-A"
      }
    },
    {
      "cell_type": "code",
      "source": [
        "## We use sample(frac=0.75, random_state=440) to make a random sample\n",
        "## frac: to set aside 75% for training\n",
        "## random_state=440 allows you to reproduce the same train test split each time you run the code.\n",
        "\n",
        "# Assuming df is your DataFrame\n",
        "\n",
        "train_df = df.sample(frac=0.75, random_state=440)\n",
        "\n",
        "# The remaining 75% will be used for training\n",
        "test_df = df.drop(train_df.index)\n"
      ],
      "metadata": {
        "id": "EBkAw3HK91ym"
      },
      "execution_count": 14,
      "outputs": []
    },
    {
      "cell_type": "markdown",
      "source": [
        "### 2- Modeling and fitting\n",
        "\n",
        "You can use the formula given in lecture (previous notebooks) or build a model using `sklearn` which is an open source python machine learning library.\n",
        "\n",
        "__Steps:__\n",
        "\n",
        "1. import the model from sklearn,\n",
        "2. make a model object,\n",
        "3. fit the object,\n",
        "4. predict"
      ],
      "metadata": {
        "id": "kXRVCsF_-yt8"
      }
    },
    {
      "cell_type": "code",
      "source": [
        "# First we import Linear Regression from sklearn\n",
        "from sklearn.linear_model import LinearRegression"
      ],
      "metadata": {
        "id": "9zDeqG1U-1QP"
      },
      "execution_count": 15,
      "outputs": []
    },
    {
      "cell_type": "code",
      "source": [
        "## Now we make a LinearRegression object\n",
        "slr = LinearRegression(copy_X = True)"
      ],
      "metadata": {
        "id": "hFp9tR3z_Plp"
      },
      "execution_count": 16,
      "outputs": []
    },
    {
      "cell_type": "markdown",
      "source": [
        "The parameter `copy_X` is set to `True`. This makes a copy of the original input $X$ to ensure that it is not modified during the fitting process.\n",
        "\n",
        "To learn more about the `LinearRegression` object read the documentation here: <a href=\"https://scikit-learn.org/stable/modules/generated/sklearn.linear_model.LinearRegression.html\">https://scikit-learn.org/stable/modules/generated/sklearn.linear_model.LinearRegression.html</a>."
      ],
      "metadata": {
        "id": "XjnyXVie_ZC4"
      }
    },
    {
      "cell_type": "code",
      "source": [
        "## Now we fit the model. Replace X and y with what you have in the following\n",
        "#slr.fit(X, y)\n",
        "slr.fit(train_df[['YearsExperience']], train_df['Salary'])"
      ],
      "metadata": {
        "id": "kFIem722_RYf",
        "outputId": "0e1fac8a-a0b2-4947-93b6-ddeec88e0dd3",
        "colab": {
          "base_uri": "https://localhost:8080/",
          "height": 80
        }
      },
      "execution_count": 19,
      "outputs": [
        {
          "output_type": "execute_result",
          "data": {
            "text/plain": [
              "LinearRegression()"
            ],
            "text/html": [
              "<style>#sk-container-id-3 {\n",
              "  /* Definition of color scheme common for light and dark mode */\n",
              "  --sklearn-color-text: #000;\n",
              "  --sklearn-color-text-muted: #666;\n",
              "  --sklearn-color-line: gray;\n",
              "  /* Definition of color scheme for unfitted estimators */\n",
              "  --sklearn-color-unfitted-level-0: #fff5e6;\n",
              "  --sklearn-color-unfitted-level-1: #f6e4d2;\n",
              "  --sklearn-color-unfitted-level-2: #ffe0b3;\n",
              "  --sklearn-color-unfitted-level-3: chocolate;\n",
              "  /* Definition of color scheme for fitted estimators */\n",
              "  --sklearn-color-fitted-level-0: #f0f8ff;\n",
              "  --sklearn-color-fitted-level-1: #d4ebff;\n",
              "  --sklearn-color-fitted-level-2: #b3dbfd;\n",
              "  --sklearn-color-fitted-level-3: cornflowerblue;\n",
              "\n",
              "  /* Specific color for light theme */\n",
              "  --sklearn-color-text-on-default-background: var(--sg-text-color, var(--theme-code-foreground, var(--jp-content-font-color1, black)));\n",
              "  --sklearn-color-background: var(--sg-background-color, var(--theme-background, var(--jp-layout-color0, white)));\n",
              "  --sklearn-color-border-box: var(--sg-text-color, var(--theme-code-foreground, var(--jp-content-font-color1, black)));\n",
              "  --sklearn-color-icon: #696969;\n",
              "\n",
              "  @media (prefers-color-scheme: dark) {\n",
              "    /* Redefinition of color scheme for dark theme */\n",
              "    --sklearn-color-text-on-default-background: var(--sg-text-color, var(--theme-code-foreground, var(--jp-content-font-color1, white)));\n",
              "    --sklearn-color-background: var(--sg-background-color, var(--theme-background, var(--jp-layout-color0, #111)));\n",
              "    --sklearn-color-border-box: var(--sg-text-color, var(--theme-code-foreground, var(--jp-content-font-color1, white)));\n",
              "    --sklearn-color-icon: #878787;\n",
              "  }\n",
              "}\n",
              "\n",
              "#sk-container-id-3 {\n",
              "  color: var(--sklearn-color-text);\n",
              "}\n",
              "\n",
              "#sk-container-id-3 pre {\n",
              "  padding: 0;\n",
              "}\n",
              "\n",
              "#sk-container-id-3 input.sk-hidden--visually {\n",
              "  border: 0;\n",
              "  clip: rect(1px 1px 1px 1px);\n",
              "  clip: rect(1px, 1px, 1px, 1px);\n",
              "  height: 1px;\n",
              "  margin: -1px;\n",
              "  overflow: hidden;\n",
              "  padding: 0;\n",
              "  position: absolute;\n",
              "  width: 1px;\n",
              "}\n",
              "\n",
              "#sk-container-id-3 div.sk-dashed-wrapped {\n",
              "  border: 1px dashed var(--sklearn-color-line);\n",
              "  margin: 0 0.4em 0.5em 0.4em;\n",
              "  box-sizing: border-box;\n",
              "  padding-bottom: 0.4em;\n",
              "  background-color: var(--sklearn-color-background);\n",
              "}\n",
              "\n",
              "#sk-container-id-3 div.sk-container {\n",
              "  /* jupyter's `normalize.less` sets `[hidden] { display: none; }`\n",
              "     but bootstrap.min.css set `[hidden] { display: none !important; }`\n",
              "     so we also need the `!important` here to be able to override the\n",
              "     default hidden behavior on the sphinx rendered scikit-learn.org.\n",
              "     See: https://github.com/scikit-learn/scikit-learn/issues/21755 */\n",
              "  display: inline-block !important;\n",
              "  position: relative;\n",
              "}\n",
              "\n",
              "#sk-container-id-3 div.sk-text-repr-fallback {\n",
              "  display: none;\n",
              "}\n",
              "\n",
              "div.sk-parallel-item,\n",
              "div.sk-serial,\n",
              "div.sk-item {\n",
              "  /* draw centered vertical line to link estimators */\n",
              "  background-image: linear-gradient(var(--sklearn-color-text-on-default-background), var(--sklearn-color-text-on-default-background));\n",
              "  background-size: 2px 100%;\n",
              "  background-repeat: no-repeat;\n",
              "  background-position: center center;\n",
              "}\n",
              "\n",
              "/* Parallel-specific style estimator block */\n",
              "\n",
              "#sk-container-id-3 div.sk-parallel-item::after {\n",
              "  content: \"\";\n",
              "  width: 100%;\n",
              "  border-bottom: 2px solid var(--sklearn-color-text-on-default-background);\n",
              "  flex-grow: 1;\n",
              "}\n",
              "\n",
              "#sk-container-id-3 div.sk-parallel {\n",
              "  display: flex;\n",
              "  align-items: stretch;\n",
              "  justify-content: center;\n",
              "  background-color: var(--sklearn-color-background);\n",
              "  position: relative;\n",
              "}\n",
              "\n",
              "#sk-container-id-3 div.sk-parallel-item {\n",
              "  display: flex;\n",
              "  flex-direction: column;\n",
              "}\n",
              "\n",
              "#sk-container-id-3 div.sk-parallel-item:first-child::after {\n",
              "  align-self: flex-end;\n",
              "  width: 50%;\n",
              "}\n",
              "\n",
              "#sk-container-id-3 div.sk-parallel-item:last-child::after {\n",
              "  align-self: flex-start;\n",
              "  width: 50%;\n",
              "}\n",
              "\n",
              "#sk-container-id-3 div.sk-parallel-item:only-child::after {\n",
              "  width: 0;\n",
              "}\n",
              "\n",
              "/* Serial-specific style estimator block */\n",
              "\n",
              "#sk-container-id-3 div.sk-serial {\n",
              "  display: flex;\n",
              "  flex-direction: column;\n",
              "  align-items: center;\n",
              "  background-color: var(--sklearn-color-background);\n",
              "  padding-right: 1em;\n",
              "  padding-left: 1em;\n",
              "}\n",
              "\n",
              "\n",
              "/* Toggleable style: style used for estimator/Pipeline/ColumnTransformer box that is\n",
              "clickable and can be expanded/collapsed.\n",
              "- Pipeline and ColumnTransformer use this feature and define the default style\n",
              "- Estimators will overwrite some part of the style using the `sk-estimator` class\n",
              "*/\n",
              "\n",
              "/* Pipeline and ColumnTransformer style (default) */\n",
              "\n",
              "#sk-container-id-3 div.sk-toggleable {\n",
              "  /* Default theme specific background. It is overwritten whether we have a\n",
              "  specific estimator or a Pipeline/ColumnTransformer */\n",
              "  background-color: var(--sklearn-color-background);\n",
              "}\n",
              "\n",
              "/* Toggleable label */\n",
              "#sk-container-id-3 label.sk-toggleable__label {\n",
              "  cursor: pointer;\n",
              "  display: flex;\n",
              "  width: 100%;\n",
              "  margin-bottom: 0;\n",
              "  padding: 0.5em;\n",
              "  box-sizing: border-box;\n",
              "  text-align: center;\n",
              "  align-items: start;\n",
              "  justify-content: space-between;\n",
              "  gap: 0.5em;\n",
              "}\n",
              "\n",
              "#sk-container-id-3 label.sk-toggleable__label .caption {\n",
              "  font-size: 0.6rem;\n",
              "  font-weight: lighter;\n",
              "  color: var(--sklearn-color-text-muted);\n",
              "}\n",
              "\n",
              "#sk-container-id-3 label.sk-toggleable__label-arrow:before {\n",
              "  /* Arrow on the left of the label */\n",
              "  content: \"▸\";\n",
              "  float: left;\n",
              "  margin-right: 0.25em;\n",
              "  color: var(--sklearn-color-icon);\n",
              "}\n",
              "\n",
              "#sk-container-id-3 label.sk-toggleable__label-arrow:hover:before {\n",
              "  color: var(--sklearn-color-text);\n",
              "}\n",
              "\n",
              "/* Toggleable content - dropdown */\n",
              "\n",
              "#sk-container-id-3 div.sk-toggleable__content {\n",
              "  max-height: 0;\n",
              "  max-width: 0;\n",
              "  overflow: hidden;\n",
              "  text-align: left;\n",
              "  /* unfitted */\n",
              "  background-color: var(--sklearn-color-unfitted-level-0);\n",
              "}\n",
              "\n",
              "#sk-container-id-3 div.sk-toggleable__content.fitted {\n",
              "  /* fitted */\n",
              "  background-color: var(--sklearn-color-fitted-level-0);\n",
              "}\n",
              "\n",
              "#sk-container-id-3 div.sk-toggleable__content pre {\n",
              "  margin: 0.2em;\n",
              "  border-radius: 0.25em;\n",
              "  color: var(--sklearn-color-text);\n",
              "  /* unfitted */\n",
              "  background-color: var(--sklearn-color-unfitted-level-0);\n",
              "}\n",
              "\n",
              "#sk-container-id-3 div.sk-toggleable__content.fitted pre {\n",
              "  /* unfitted */\n",
              "  background-color: var(--sklearn-color-fitted-level-0);\n",
              "}\n",
              "\n",
              "#sk-container-id-3 input.sk-toggleable__control:checked~div.sk-toggleable__content {\n",
              "  /* Expand drop-down */\n",
              "  max-height: 200px;\n",
              "  max-width: 100%;\n",
              "  overflow: auto;\n",
              "}\n",
              "\n",
              "#sk-container-id-3 input.sk-toggleable__control:checked~label.sk-toggleable__label-arrow:before {\n",
              "  content: \"▾\";\n",
              "}\n",
              "\n",
              "/* Pipeline/ColumnTransformer-specific style */\n",
              "\n",
              "#sk-container-id-3 div.sk-label input.sk-toggleable__control:checked~label.sk-toggleable__label {\n",
              "  color: var(--sklearn-color-text);\n",
              "  background-color: var(--sklearn-color-unfitted-level-2);\n",
              "}\n",
              "\n",
              "#sk-container-id-3 div.sk-label.fitted input.sk-toggleable__control:checked~label.sk-toggleable__label {\n",
              "  background-color: var(--sklearn-color-fitted-level-2);\n",
              "}\n",
              "\n",
              "/* Estimator-specific style */\n",
              "\n",
              "/* Colorize estimator box */\n",
              "#sk-container-id-3 div.sk-estimator input.sk-toggleable__control:checked~label.sk-toggleable__label {\n",
              "  /* unfitted */\n",
              "  background-color: var(--sklearn-color-unfitted-level-2);\n",
              "}\n",
              "\n",
              "#sk-container-id-3 div.sk-estimator.fitted input.sk-toggleable__control:checked~label.sk-toggleable__label {\n",
              "  /* fitted */\n",
              "  background-color: var(--sklearn-color-fitted-level-2);\n",
              "}\n",
              "\n",
              "#sk-container-id-3 div.sk-label label.sk-toggleable__label,\n",
              "#sk-container-id-3 div.sk-label label {\n",
              "  /* The background is the default theme color */\n",
              "  color: var(--sklearn-color-text-on-default-background);\n",
              "}\n",
              "\n",
              "/* On hover, darken the color of the background */\n",
              "#sk-container-id-3 div.sk-label:hover label.sk-toggleable__label {\n",
              "  color: var(--sklearn-color-text);\n",
              "  background-color: var(--sklearn-color-unfitted-level-2);\n",
              "}\n",
              "\n",
              "/* Label box, darken color on hover, fitted */\n",
              "#sk-container-id-3 div.sk-label.fitted:hover label.sk-toggleable__label.fitted {\n",
              "  color: var(--sklearn-color-text);\n",
              "  background-color: var(--sklearn-color-fitted-level-2);\n",
              "}\n",
              "\n",
              "/* Estimator label */\n",
              "\n",
              "#sk-container-id-3 div.sk-label label {\n",
              "  font-family: monospace;\n",
              "  font-weight: bold;\n",
              "  display: inline-block;\n",
              "  line-height: 1.2em;\n",
              "}\n",
              "\n",
              "#sk-container-id-3 div.sk-label-container {\n",
              "  text-align: center;\n",
              "}\n",
              "\n",
              "/* Estimator-specific */\n",
              "#sk-container-id-3 div.sk-estimator {\n",
              "  font-family: monospace;\n",
              "  border: 1px dotted var(--sklearn-color-border-box);\n",
              "  border-radius: 0.25em;\n",
              "  box-sizing: border-box;\n",
              "  margin-bottom: 0.5em;\n",
              "  /* unfitted */\n",
              "  background-color: var(--sklearn-color-unfitted-level-0);\n",
              "}\n",
              "\n",
              "#sk-container-id-3 div.sk-estimator.fitted {\n",
              "  /* fitted */\n",
              "  background-color: var(--sklearn-color-fitted-level-0);\n",
              "}\n",
              "\n",
              "/* on hover */\n",
              "#sk-container-id-3 div.sk-estimator:hover {\n",
              "  /* unfitted */\n",
              "  background-color: var(--sklearn-color-unfitted-level-2);\n",
              "}\n",
              "\n",
              "#sk-container-id-3 div.sk-estimator.fitted:hover {\n",
              "  /* fitted */\n",
              "  background-color: var(--sklearn-color-fitted-level-2);\n",
              "}\n",
              "\n",
              "/* Specification for estimator info (e.g. \"i\" and \"?\") */\n",
              "\n",
              "/* Common style for \"i\" and \"?\" */\n",
              "\n",
              ".sk-estimator-doc-link,\n",
              "a:link.sk-estimator-doc-link,\n",
              "a:visited.sk-estimator-doc-link {\n",
              "  float: right;\n",
              "  font-size: smaller;\n",
              "  line-height: 1em;\n",
              "  font-family: monospace;\n",
              "  background-color: var(--sklearn-color-background);\n",
              "  border-radius: 1em;\n",
              "  height: 1em;\n",
              "  width: 1em;\n",
              "  text-decoration: none !important;\n",
              "  margin-left: 0.5em;\n",
              "  text-align: center;\n",
              "  /* unfitted */\n",
              "  border: var(--sklearn-color-unfitted-level-1) 1pt solid;\n",
              "  color: var(--sklearn-color-unfitted-level-1);\n",
              "}\n",
              "\n",
              ".sk-estimator-doc-link.fitted,\n",
              "a:link.sk-estimator-doc-link.fitted,\n",
              "a:visited.sk-estimator-doc-link.fitted {\n",
              "  /* fitted */\n",
              "  border: var(--sklearn-color-fitted-level-1) 1pt solid;\n",
              "  color: var(--sklearn-color-fitted-level-1);\n",
              "}\n",
              "\n",
              "/* On hover */\n",
              "div.sk-estimator:hover .sk-estimator-doc-link:hover,\n",
              ".sk-estimator-doc-link:hover,\n",
              "div.sk-label-container:hover .sk-estimator-doc-link:hover,\n",
              ".sk-estimator-doc-link:hover {\n",
              "  /* unfitted */\n",
              "  background-color: var(--sklearn-color-unfitted-level-3);\n",
              "  color: var(--sklearn-color-background);\n",
              "  text-decoration: none;\n",
              "}\n",
              "\n",
              "div.sk-estimator.fitted:hover .sk-estimator-doc-link.fitted:hover,\n",
              ".sk-estimator-doc-link.fitted:hover,\n",
              "div.sk-label-container:hover .sk-estimator-doc-link.fitted:hover,\n",
              ".sk-estimator-doc-link.fitted:hover {\n",
              "  /* fitted */\n",
              "  background-color: var(--sklearn-color-fitted-level-3);\n",
              "  color: var(--sklearn-color-background);\n",
              "  text-decoration: none;\n",
              "}\n",
              "\n",
              "/* Span, style for the box shown on hovering the info icon */\n",
              ".sk-estimator-doc-link span {\n",
              "  display: none;\n",
              "  z-index: 9999;\n",
              "  position: relative;\n",
              "  font-weight: normal;\n",
              "  right: .2ex;\n",
              "  padding: .5ex;\n",
              "  margin: .5ex;\n",
              "  width: min-content;\n",
              "  min-width: 20ex;\n",
              "  max-width: 50ex;\n",
              "  color: var(--sklearn-color-text);\n",
              "  box-shadow: 2pt 2pt 4pt #999;\n",
              "  /* unfitted */\n",
              "  background: var(--sklearn-color-unfitted-level-0);\n",
              "  border: .5pt solid var(--sklearn-color-unfitted-level-3);\n",
              "}\n",
              "\n",
              ".sk-estimator-doc-link.fitted span {\n",
              "  /* fitted */\n",
              "  background: var(--sklearn-color-fitted-level-0);\n",
              "  border: var(--sklearn-color-fitted-level-3);\n",
              "}\n",
              "\n",
              ".sk-estimator-doc-link:hover span {\n",
              "  display: block;\n",
              "}\n",
              "\n",
              "/* \"?\"-specific style due to the `<a>` HTML tag */\n",
              "\n",
              "#sk-container-id-3 a.estimator_doc_link {\n",
              "  float: right;\n",
              "  font-size: 1rem;\n",
              "  line-height: 1em;\n",
              "  font-family: monospace;\n",
              "  background-color: var(--sklearn-color-background);\n",
              "  border-radius: 1rem;\n",
              "  height: 1rem;\n",
              "  width: 1rem;\n",
              "  text-decoration: none;\n",
              "  /* unfitted */\n",
              "  color: var(--sklearn-color-unfitted-level-1);\n",
              "  border: var(--sklearn-color-unfitted-level-1) 1pt solid;\n",
              "}\n",
              "\n",
              "#sk-container-id-3 a.estimator_doc_link.fitted {\n",
              "  /* fitted */\n",
              "  border: var(--sklearn-color-fitted-level-1) 1pt solid;\n",
              "  color: var(--sklearn-color-fitted-level-1);\n",
              "}\n",
              "\n",
              "/* On hover */\n",
              "#sk-container-id-3 a.estimator_doc_link:hover {\n",
              "  /* unfitted */\n",
              "  background-color: var(--sklearn-color-unfitted-level-3);\n",
              "  color: var(--sklearn-color-background);\n",
              "  text-decoration: none;\n",
              "}\n",
              "\n",
              "#sk-container-id-3 a.estimator_doc_link.fitted:hover {\n",
              "  /* fitted */\n",
              "  background-color: var(--sklearn-color-fitted-level-3);\n",
              "}\n",
              "</style><div id=\"sk-container-id-3\" class=\"sk-top-container\"><div class=\"sk-text-repr-fallback\"><pre>LinearRegression()</pre><b>In a Jupyter environment, please rerun this cell to show the HTML representation or trust the notebook. <br />On GitHub, the HTML representation is unable to render, please try loading this page with nbviewer.org.</b></div><div class=\"sk-container\" hidden><div class=\"sk-item\"><div class=\"sk-estimator fitted sk-toggleable\"><input class=\"sk-toggleable__control sk-hidden--visually\" id=\"sk-estimator-id-3\" type=\"checkbox\" checked><label for=\"sk-estimator-id-3\" class=\"sk-toggleable__label fitted sk-toggleable__label-arrow\"><div><div>LinearRegression</div></div><div><a class=\"sk-estimator-doc-link fitted\" rel=\"noreferrer\" target=\"_blank\" href=\"https://scikit-learn.org/1.6/modules/generated/sklearn.linear_model.LinearRegression.html\">?<span>Documentation for LinearRegression</span></a><span class=\"sk-estimator-doc-link fitted\">i<span>Fitted</span></span></div></label><div class=\"sk-toggleable__content fitted\"><pre>LinearRegression()</pre></div> </div></div></div></div>"
            ]
          },
          "metadata": {},
          "execution_count": 19
        }
      ]
    },
    {
      "cell_type": "code",
      "source": [
        "## Print the coefficients\n",
        "beta_1_hat = slr.coef_[0]\n",
        "beta_0_hat = slr.intercept_\n",
        "\n",
        "print(\"beta_1_hat is\", beta_1_hat)\n",
        "print(\"beta_0_hat is\", beta_0_hat)"
      ],
      "metadata": {
        "id": "qjFIIjkF_lTU",
        "outputId": "2fb3568b-306a-4320-f0db-8cb7c396e516",
        "colab": {
          "base_uri": "https://localhost:8080/"
        }
      },
      "execution_count": 20,
      "outputs": [
        {
          "output_type": "stream",
          "name": "stdout",
          "text": [
            "beta_1_hat is 9343.023590209616\n",
            "beta_0_hat is 25606.569293904176\n"
          ]
        }
      ]
    },
    {
      "cell_type": "markdown",
      "source": [
        "Now produce a scatter plot of data points along with the fitted SLR line ($y = \\beta_0 + \\beta_1 x $). In your opinion, does this line describe your dataset?"
      ],
      "metadata": {
        "id": "2ytc3AcX_tAP"
      }
    },
    {
      "cell_type": "code",
      "source": [
        "# prompt: create a scatter plot of data points along with the fitted SRL line\n",
        "\n",
        "import matplotlib.pyplot as plt\n",
        "import numpy as np\n",
        "# Create the plot\n",
        "plt.figure(figsize=(10, 6))\n",
        "plt.scatter(train_df['YearsExperience'], train_df['Salary'], color='blue', label='Data Points')\n",
        "\n",
        "# Generate points for the fitted line\n",
        "x_line = np.linspace(min(train_df['YearsExperience']), max(train_df['YearsExperience']), 100)\n",
        "y_line = beta_0_hat + beta_1_hat * x_line\n",
        "\n",
        "plt.plot(x_line, y_line, color='red', label='Fitted SLR Line')\n",
        "plt.xlabel('Years of Experience')\n",
        "plt.ylabel('Salary')\n",
        "plt.title('Scatter Plot with Fitted SLR Line')\n",
        "plt.legend()\n",
        "plt.show()\n"
      ],
      "metadata": {
        "id": "VTZLvlJ7_oTu",
        "outputId": "4e117f48-0d3e-4e77-95da-38e8e837721b",
        "colab": {
          "base_uri": "https://localhost:8080/",
          "height": 564
        }
      },
      "execution_count": 21,
      "outputs": [
        {
          "output_type": "display_data",
          "data": {
            "text/plain": [
              "<Figure size 1000x600 with 1 Axes>"
            ],
            "image/png": "[encoded data removed]"
          },
          "metadata": {}
        }
      ]
    },
    {
      "cell_type": "markdown",
      "source": [
        "### Model Performance:\n",
        "\n",
        "We measure the performance by looking at its predictions. The basic idea is we compute the regression line on train dataset and use it to predeict the values on the test dataset. A large gap between the training and testing MSE indicates high variance (__overfitting__), while a small gap may suggest high bias (__underfitting__).\n",
        "\n",
        "__Steps__\n",
        "\n",
        "1-find MSE on training dataset\n",
        "\n",
        "2-find MSE on testing dataset\n",
        "\n",
        "3- Is your model overfitting or underfitting or working well?"
      ],
      "metadata": {
        "id": "8J8PP76MAI1S"
      }
    },
    {
      "cell_type": "code",
      "source": [
        "## Here you calculate the MSE on the training data\n",
        "## (how well the model performs on seen data)\n",
        "from sklearn.metrics import mean_squared_error"
      ],
      "metadata": {
        "id": "gV2kyDZdALcM"
      },
      "execution_count": 22,
      "outputs": []
    },
    {
      "cell_type": "code",
      "source": [
        "# prompt: calculate the MSE on the training data\n",
        "\n",
        "y_pred_train = slr.predict(train_df[['YearsExperience']])\n",
        "mse_train = mean_squared_error(train_df['Salary'], y_pred_train)\n",
        "\n",
        "print(f\"Mean Squared Error (MSE) on training data: {mse_train}\")\n"
      ],
      "metadata": {
        "id": "yPvFq0BAZWMD",
        "outputId": "205a83ee-5d5f-42dd-af42-c2a800274450",
        "colab": {
          "base_uri": "https://localhost:8080/"
        }
      },
      "execution_count": 23,
      "outputs": [
        {
          "output_type": "stream",
          "name": "stdout",
          "text": [
            "Mean Squared Error (MSE) on training data: 32331431.56048533\n"
          ]
        }
      ]
    },
    {
      "cell_type": "code",
      "source": [
        "## Here calculate the MSE on the test data\n",
        "## (how well the model performs on seen data)\n",
        "# Its good\n"
      ],
      "metadata": {
        "id": "4ysrqF6VYfz-"
      },
      "execution_count": 12,
      "outputs": []
    },
    {
      "cell_type": "markdown",
      "source": [
        "1- How do you interpret you MSE?\n",
        "\n",
        "2- Is it acceptable?\n",
        "\n",
        "3- Let's look at error again. The predictions tells you the pattern that the model has captured, and the residuals tell you what the model has missed. Plot the residuals. Did you successfully remove the strong linear pattern?\n",
        "\n",
        "4- How do you interpret the residuals?\n",
        "\n",
        "5- How can you use your model to predict? Explain with an example.  "
      ],
      "metadata": {
        "id": "1S2UBrH6Cre4"
      }
    },
    {
      "cell_type": "code",
      "source": [
        "# prompt: find the rmse\n",
        "\n",
        "import numpy as np\n",
        "# Calculate RMSE on the test data\n",
        "y_pred_test = slr.predict(test_df[['YearsExperience']])\n",
        "mse_test = mean_squared_error(test_df['Salary'], y_pred_test)\n",
        "rmse_test = np.sqrt(mse_test)\n",
        "\n",
        "print(f\"Root Mean Squared Error (RMSE) on test data: {rmse_test}\")\n"
      ],
      "metadata": {
        "id": "lQBFnk4CbRNa",
        "outputId": "7d5d714d-22f1-438a-a38e-f27780f60599",
        "colab": {
          "base_uri": "https://localhost:8080/"
        }
      },
      "execution_count": 24,
      "outputs": [
        {
          "output_type": "stream",
          "name": "stdout",
          "text": [
            "Root Mean Squared Error (RMSE) on test data: 5551.529577814896\n"
          ]
        }
      ]
    },
    {
      "cell_type": "code",
      "source": [],
      "metadata": {
        "id": "AusNVgH6bRKd"
      },
      "execution_count": null,
      "outputs": []
    },
    {
      "cell_type": "markdown",
      "source": [
        "### Notes on Overfitting and Underfitting\n",
        "\n",
        "\n",
        "1. **Overfitting**:\n",
        "   - If the **MSE on the training dataset** is much **lower** than the **MSE on the testing dataset**, this suggests **overfitting**.\n",
        "   - The model fits the training data very well but struggles to generalize to new, unseen data (test set), which leads to a large gap in MSE.\n",
        "   - Overfitting happens when the model has high variance, capturing noise and irrelevant details in the training data.\n",
        "\n",
        "2. **Underfitting**:\n",
        "   - If **both the training and testing MSE are high**, this indicates **underfitting**.\n",
        "   - The model is too simple and unable to capture the underlying patterns in the data, which leads to poor performance on both the training and test datasets.\n",
        "   - This occurs when the model has high bias and lacks the complexity needed to learn from the data.\n",
        "\n",
        "### Summary:\n",
        "- **Large gap** between training and testing MSE → **Overfitting** (high variance).\n",
        "- **High MSE** on both training and testing sets, with **similar values** → **Underfitting** (high bias).\n",
        "\n",
        "You want to minimize the gap while keeping both errors as low as possible, which would indicate a well-balanced model."
      ],
      "metadata": {
        "id": "Z-SLT_75bAjy"
      }
    },
    {
      "cell_type": "code",
      "source": [
        "# prompt: we have overshot the rmse, fix\n",
        "\n",
        "import pandas as pd\n",
        "import numpy as np\n",
        "import matplotlib.pyplot as plt\n",
        "import seaborn as sns\n",
        "from sklearn.linear_model import LinearRegression\n",
        "from sklearn.metrics import mean_squared_error\n",
        "\n",
        "# ... (rest of your existing code)\n",
        "\n",
        "# Calculate RMSE on the test data\n",
        "y_pred_test = slr.predict(test_df[['YearsExperience']])\n",
        "mse_test = mean_squared_error(test_df['Salary'], y_pred_test)\n",
        "rmse_test = np.sqrt(mse_test)\n",
        "\n",
        "print(f\"Root Mean Squared Error (RMSE) on test data: {rmse_test}\")\n",
        "\n",
        "# Analyze and address potential overfitting/underfitting\n",
        "# If rmse_test is too high, consider the following:\n",
        "\n",
        "#1. Feature Engineering: Explore adding more relevant features or transforming existing ones.\n",
        "#2. Regularization (L1/L2): Introduce regularization to penalize complex models.\n",
        "#3. Model Selection: Try different regression models (e.g., Ridge, Lasso, or polynomial regression)\n",
        "#4. Hyperparameter Tuning: Use cross-validation to find optimal hyperparameter settings for your model.\n",
        "\n",
        "#Example of adding polynomial features (if appropriate):\n",
        "# from sklearn.preprocessing import PolynomialFeatures\n",
        "# poly = PolynomialFeatures(degree=2)  # Example degree, tune this.\n",
        "# X_train_poly = poly.fit_transform(train_df[['YearsExperience']])\n",
        "# X_test_poly = poly.transform(test_df[['YearsExperience']]) # use transform only on the test set\n",
        "# slr_poly = LinearRegression()\n",
        "# slr_poly.fit(X_train_poly, train_df['Salary'])\n",
        "# y_pred_test_poly = slr_poly.predict(X_test_poly)\n",
        "# rmse_test_poly = np.sqrt(mean_squared_error(test_df['Salary'], y_pred_test_poly))\n",
        "\n",
        "# print(f\"RMSE (Polynomial): {rmse_test_poly}\")\n",
        "\n",
        "#Example of regularization (L2 - Ridge Regression)\n",
        "# from sklearn.linear_model import Ridge\n",
        "# ridge = Ridge(alpha=1.0) #tune alpha\n",
        "# ridge.fit(train_df[['YearsExperience']], train_df['Salary'])\n",
        "# y_pred_test_ridge = ridge.predict(test_df[['YearsExperience']])\n",
        "# rmse_test_ridge = np.sqrt(mean_squared_error(test_df['Salary'], y_pred_test_ridge))\n",
        "\n",
        "# print(f\"RMSE (Ridge): {rmse_test_ridge}\")\n"
      ],
      "metadata": {
        "id": "Z9jreA_zCbPF",
        "outputId": "9da5df52-93f8-4033-82c6-d54a688fc850",
        "colab": {
          "base_uri": "https://localhost:8080/"
        }
      },
      "execution_count": 25,
      "outputs": [
        {
          "output_type": "stream",
          "name": "stdout",
          "text": [
            "Root Mean Squared Error (RMSE) on test data: 5551.529577814896\n"
          ]
        }
      ]
    }
  ]
}